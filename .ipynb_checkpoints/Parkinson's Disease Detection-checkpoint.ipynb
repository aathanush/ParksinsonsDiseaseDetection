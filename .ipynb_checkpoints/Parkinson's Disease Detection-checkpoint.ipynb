{
 "cells": [
  {
   "cell_type": "code",
   "execution_count": null,
   "id": "00ee86f8",
   "metadata": {},
   "outputs": [],
   "source": [
    "import pandas as pd\n",
    "from sklearn.ensemble import RandomForestClassifier\n",
    "from sklearn.svm import SVC\n",
    "from xgboost import XGBClassifier\n",
    "from interpret.glassbox import ExplainableBoostingClassifier\n",
    "from sklearn.model_selection import train_test_split\n",
    "from sklearn.metrics import accuracy_score,confusion_matrix,ConfusionMatrixDisplay,f1_score,precision_score,recall_score\n",
    "from interpret.glassbox import ExplainableBoostingClassifier\n",
    "import matplotlib.pyplot as plt"
   ]
  },
  {
   "cell_type": "code",
   "execution_count": null,
   "id": "50a1675c",
   "metadata": {},
   "outputs": [],
   "source": [
    "df=pd.read_csv(\"pd_speech_features.csv\")"
   ]
  },
  {
   "cell_type": "code",
   "execution_count": null,
   "id": "7193680e",
   "metadata": {},
   "outputs": [],
   "source": [
    "df.isnull().sum()"
   ]
  },
  {
   "cell_type": "code",
   "execution_count": null,
   "id": "c3ad95ec",
   "metadata": {},
   "outputs": [],
   "source": [
    "df.head()"
   ]
  },
  {
   "cell_type": "code",
   "execution_count": null,
   "id": "91da6a3f",
   "metadata": {},
   "outputs": [],
   "source": [
    "X=df.drop(columns=['class'])"
   ]
  },
  {
   "cell_type": "code",
   "execution_count": null,
   "id": "f5323a5c",
   "metadata": {},
   "outputs": [],
   "source": [
    "y=df['class']"
   ]
  },
  {
   "cell_type": "code",
   "execution_count": null,
   "id": "ea67c348",
   "metadata": {},
   "outputs": [],
   "source": [
    "X_train,X_test,y_train,y_test=train_test_split(X,y,test_size=0.2,random_state=42)"
   ]
  },
  {
   "cell_type": "code",
   "execution_count": null,
   "id": "8bae1f80",
   "metadata": {},
   "outputs": [],
   "source": [
    "xgb=XGBClassifier()"
   ]
  },
  {
   "cell_type": "code",
   "execution_count": null,
   "id": "e8429c02",
   "metadata": {},
   "outputs": [],
   "source": [
    "xgb.fit(X_train,y_train)"
   ]
  },
  {
   "cell_type": "code",
   "execution_count": null,
   "id": "abcf4185",
   "metadata": {},
   "outputs": [],
   "source": [
    "print(\"Accuracy: \",accuracy_score(y_test,xgb.predict(X_test)))\n",
    "print(\"F1 Score: \",f1_score(y_test,xgb.predict(X_test)))\n",
    "print(\"Precision: \",precision_score(y_test,xgb.predict(X_test)))\n",
    "print(\"Recall (Sensitivity): \",recall_score(y_test,xgb.predict(X_test)))\n",
    "\n",
    "\n",
    "cm=confusion_matrix(y_test,xgb.predict(X_test))\n",
    "S\n",
    "tn=cm[0][0]\n",
    "fp=cm[0][1]\n",
    "fn=cm[1][0]\n",
    "tp=cm[1][1]\n",
    "\n",
    "print(\"Specificity: \",tn/(tn+fp))\n",
    "disp=ConfusionMatrixDisplay(cm)\n",
    "disp.plot()\n",
    "plt.show()\n"
   ]
  },
  {
   "cell_type": "code",
   "execution_count": null,
   "id": "1ff52f02",
   "metadata": {},
   "outputs": [],
   "source": [
    "rfr=RandomForestClassifier()"
   ]
  },
  {
   "cell_type": "code",
   "execution_count": null,
   "id": "2bc766f1",
   "metadata": {},
   "outputs": [],
   "source": [
    "rfr.fit(X_train,y_train)"
   ]
  },
  {
   "cell_type": "code",
   "execution_count": null,
   "id": "a871feb8",
   "metadata": {},
   "outputs": [],
   "source": [
    "print(\"Accuracy: \",accuracy_score(y_test,rfr.predict(X_test)))\n",
    "print(\"F1 Score: \",f1_score(y_test,rfr.predict(X_test)))\n",
    "print(\"Precision: \",precision_score(y_test,rfr.predict(X_test)))\n",
    "print(\"Recall (Sensitivity): \",recall_score(y_test,rfr.predict(X_test)))\n",
    "\n",
    "\n",
    "cm=confusion_matrix(y_test,rfr.predict(X_test))\n",
    "\n",
    "tn=cm[0][0]\n",
    "fp=cm[0][1]\n",
    "fn=cm[1][0]\n",
    "tp=cm[1][1]\n",
    "\n",
    "print(\"Specificity: \",tn/(tn+fp))\n",
    "disp=ConfusionMatrixDisplay(cm)\n",
    "disp.plot()\n",
    "plt.show()\n"
   ]
  },
  {
   "cell_type": "code",
   "execution_count": null,
   "id": "3720b668",
   "metadata": {},
   "outputs": [],
   "source": [
    "ebm=ExplainableBoostingClassifier()\n",
    "ebm.fit(X_train,y_train)\n",
    "\n",
    "print(\"Accuracy: \",accuracy_score(y_test,ebm.predict(X_test)))\n",
    "print(\"F1 Score: \",f1_score(y_test,ebm.predict(X_test)))\n",
    "print(\"Precision: \",precision_score(y_test,ebm.predict(X_test)))\n",
    "print(\"Recall (Sensitivity): \",recall_score(y_test,ebm.predict(X_test)))\n",
    "\n",
    "\n",
    "cm=confusion_matrix(y_test,ebm.predict(X_test))\n",
    "\n",
    "tn=cm[0][0]\n",
    "fp=cm[0][1]\n",
    "fn=cm[1][0]\n",
    "tp=cm[1][1]\n",
    "\n",
    "print(\"Specificity: \",tn/(tn+fp))\n",
    "disp=ConfusionMatrixDisplay(cm)\n",
    "disp.plot()\n",
    "plt.show()\n"
   ]
  },
  {
   "cell_type": "code",
   "execution_count": null,
   "id": "c2aa8168",
   "metadata": {},
   "outputs": [],
   "source": [
    "from interpret import show\n",
    "show(ebm.explain_global())\n"
   ]
  },
  {
   "cell_type": "code",
   "execution_count": null,
   "id": "dd0bd5c7",
   "metadata": {},
   "outputs": [],
   "source": [
    "fic=list(rfr.feature_importances_)"
   ]
  },
  {
   "cell_type": "code",
   "execution_count": null,
   "id": "2a709ce5",
   "metadata": {},
   "outputs": [],
   "source": [
    "import matplotlib.pyplot as plt"
   ]
  },
  {
   "cell_type": "code",
   "execution_count": null,
   "id": "fd97325c",
   "metadata": {},
   "outputs": [],
   "source": [
    "plt.bar([i for i in range(len(df.columns)-1)],fic)"
   ]
  },
  {
   "cell_type": "code",
   "execution_count": null,
   "id": "dfd69e24",
   "metadata": {},
   "outputs": [],
   "source": [
    "len(fic)==len(df.columns)"
   ]
  },
  {
   "cell_type": "code",
   "execution_count": null,
   "id": "9245cce9",
   "metadata": {},
   "outputs": [],
   "source": [
    "print('[',end='')\n",
    "for i in range(len(fic)):\n",
    "    if fic[i]<=0.0025:\n",
    "        print(f\"'{df.columns[i]}'\",end=\" ,\")\n",
    "print(']',end='')"
   ]
  },
  {
   "cell_type": "code",
   "execution_count": null,
   "id": "7ccefddb",
   "metadata": {},
   "outputs": [],
   "source": [
    "important=['gender' ,'PPE' ,'DFA' ,'RPDE' ,'numPulses' ,'numPeriodsPulses' ,'meanPeriodPulses' ,'locPctJitter' ,'ppq5Jitter' ,'locShimmer' ,'apq3Shimmer' ,'apq5Shimmer' ,'apq11Shimmer' ,'ddaShimmer' ,'meanAutoCorrHarmonicity' ,'meanNoiseToHarmHarmonicity' ,'meanHarmToNoiseHarmonicity' ,'minIntensity' ,'maxIntensity' ,'meanIntensity' ,'f1' ,'f2' ,'f3' ,'f4' ,'b1' ,'b2' ,'b3' ,'b4' ,'GQ_prc5_95' ,'GQ_std_cycle_closed' ,'GNE_mean' ,'GNE_std' ,'GNE_SNR_TKEO' ,'GNE_SNR_SEO' ,'GNE_NSR_TKEO' ,'GNE_NSR_SEO' ,'VFER_mean' ,'VFER_std' ,'VFER_entropy' ,'VFER_SNR_TKEO' ,'VFER_SNR_SEO' ,'VFER_NSR_TKEO' ,'VFER_NSR_SEO' ,'IMF_SNR_SEO' ,'IMF_SNR_TKEO' ,'IMF_SNR_entropy' ,'IMF_NSR_SEO' ,'IMF_NSR_TKEO' ,'IMF_NSR_entropy' ,'mean_Log_energy' ,'mean_MFCC_0th_coef' ,'mean_MFCC_1st_coef' ,'mean_MFCC_5th_coef' ,'mean_MFCC_6th_coef' ,'mean_MFCC_7th_coef' ,'mean_MFCC_8th_coef' ,'mean_MFCC_9th_coef' ,'mean_MFCC_10th_coef' ,'mean_MFCC_11th_coef' ,'mean_MFCC_12th_coef' ,'mean_delta_log_energy' ,'mean_0th_delta' ,'mean_1st_delta' ,'mean_2nd_delta' ,'mean_3rd_delta' ,'mean_4th_delta' ,'mean_5th_delta' ,'mean_6th_delta' ,'mean_7th_delta' ,'mean_8th_delta' ,'mean_9th_delta' ,'mean_10th_delta' ,'mean_11th_delta' ,'mean_12th_delta' ,'mean_delta_delta_log_energy' ,'mean_delta_delta_0th' ,'mean_1st_delta_delta' ,'mean_2nd_delta_delta' ,'mean_3rd_delta_delta' ,'mean_4th_delta_delta' ,'mean_5th_delta_delta' ,'mean_6th_delta_delta' ,'mean_7th_delta_delta' ,'mean_8th_delta_delta' ,'mean_9th_delta_delta' ,'mean_10th_delta_delta' ,'mean_11th_delta_delta' ,'mean_12th_delta_delta' ,'std_MFCC_0th_coef' ,'std_MFCC_1st_coef' ,'std_MFCC_2nd_coef' ,'std_MFCC_3rd_coef' ,'std_MFCC_4th_coef' ,'std_MFCC_5th_coef' ,'std_MFCC_6th_coef' ,'std_MFCC_7th_coef' ,'std_MFCC_8th_coef' ,'std_MFCC_9th_coef' ,'std_MFCC_10th_coef' ,'std_MFCC_11th_coef' ,'std_0th_delta' ,'std_1st_delta' ,'std_2nd_delta' ,'std_3rd_delta' ,'std_4th_delta' ,'std_5th_delta' ,'std_12th_delta' ,'std_delta_delta_0th' ,'std_1st_delta_delta' ,'std_2nd_delta_delta' ,'std_3rd_delta_delta' ,'std_5th_delta_delta' ,'Ea' ,'Ed_1_coef' ,'Ed_2_coef' ,'Ed_3_coef' ,'Ed_4_coef' ,'Ed_5_coef' ,'Ed_6_coef' ,'Ed_7_coef' ,'Ed_8_coef' ,'Ed_9_coef' ,'Ed_10_coef' ,'det_entropy_shannon_1_coef' ,'det_entropy_shannon_2_coef' ,'det_entropy_shannon_3_coef' ,'det_entropy_shannon_4_coef' ,'det_entropy_shannon_5_coef' ,'det_entropy_shannon_6_coef' ,'det_entropy_shannon_7_coef' ,'det_entropy_shannon_8_coef' ,'det_entropy_shannon_9_coef' ,'det_entropy_shannon_10_coef' ,'det_entropy_log_1_coef' ,'det_entropy_log_2_coef' ,'det_entropy_log_3_coef' ,'det_entropy_log_4_coef' ,'det_entropy_log_5_coef' ,'det_entropy_log_6_coef' ,'det_entropy_log_7_coef' ,'det_entropy_log_8_coef' ,'det_entropy_log_9_coef' ,'det_entropy_log_10_coef' ,'det_TKEO_mean_1_coef' ,'det_TKEO_mean_2_coef' ,'det_TKEO_mean_3_coef' ,'det_TKEO_mean_4_coef' ,'det_TKEO_mean_5_coef' ,'det_TKEO_mean_6_coef' ,'det_TKEO_mean_7_coef' ,'det_TKEO_mean_8_coef' ,'det_TKEO_mean_9_coef' ,'det_TKEO_mean_10_coef' ,'det_TKEO_std_1_coef' ,'det_TKEO_std_2_coef' ,'det_TKEO_std_3_coef' ,'det_TKEO_std_4_coef' ,'det_TKEO_std_5_coef' ,'det_TKEO_std_6_coef' ,'det_TKEO_std_7_coef' ,'det_TKEO_std_8_coef' ,'det_TKEO_std_9_coef' ,'det_TKEO_std_10_coef' ,'app_entropy_shannon_1_coef' ,'app_entropy_shannon_3_coef' ,'app_entropy_shannon_4_coef' ,'app_entropy_shannon_5_coef' ,'app_entropy_shannon_6_coef' ,'app_entropy_shannon_8_coef' ,'app_entropy_shannon_9_coef' ,'app_entropy_log_1_coef' ,'app_entropy_log_2_coef' ,'app_entropy_log_3_coef' ,'app_entropy_log_4_coef' ,'app_entropy_log_5_coef' ,'app_entropy_log_6_coef' ,'app_entropy_log_7_coef' ,'app_entropy_log_8_coef' ,'app_entropy_log_9_coef' ,'app_entropy_log_10_coef' ,'app_det_TKEO_mean_1_coef' ,'app_det_TKEO_mean_2_coef' ,'app_det_TKEO_mean_3_coef' ,'app_det_TKEO_mean_5_coef' ,'app_det_TKEO_mean_6_coef' ,'app_det_TKEO_mean_7_coef' ,'app_det_TKEO_mean_8_coef' ,'app_det_TKEO_mean_10_coef' ,'app_TKEO_std_1_coef' ,'app_TKEO_std_2_coef' ,'app_TKEO_std_3_coef' ,'app_TKEO_std_5_coef' ,'app_TKEO_std_6_coef' ,'app_TKEO_std_10_coef' ,'Ea2' ,'Ed2_1_coef' ,'Ed2_2_coef' ,'Ed2_3_coef' ,'Ed2_4_coef' ,'Ed2_5_coef' ,'Ed2_6_coef' ,'Ed2_7_coef' ,'Ed2_8_coef' ,'Ed2_9_coef' ,'Ed2_10_coef' ,'det_LT_entropy_shannon_1_coef' ,'det_LT_entropy_shannon_2_coef' ,'det_LT_entropy_shannon_3_coef' ,'det_LT_entropy_shannon_4_coef' ,'det_LT_entropy_shannon_5_coef' ,'det_LT_entropy_shannon_6_coef' ,'det_LT_entropy_shannon_7_coef' ,'det_LT_entropy_shannon_8_coef' ,'det_LT_entropy_shannon_9_coef' ,'det_LT_entropy_shannon_10_coef' ,'det_LT_entropy_log_1_coef' ,'det_LT_entropy_log_2_coef' ,'det_LT_entropy_log_3_coef' ,'det_LT_entropy_log_4_coef' ,'det_LT_entropy_log_5_coef' ,'det_LT_entropy_log_6_coef' ,'det_LT_entropy_log_7_coef' ,'det_LT_entropy_log_8_coef' ,'det_LT_entropy_log_9_coef' ,'det_LT_entropy_log_10_coef' ,'det_LT_TKEO_mean_1_coef' ,'det_LT_TKEO_mean_2_coef' ,'det_LT_TKEO_mean_3_coef' ,'det_LT_TKEO_mean_4_coef' ,'det_LT_TKEO_mean_5_coef' ,'det_LT_TKEO_mean_6_coef' ,'det_LT_TKEO_mean_7_coef' ,'det_LT_TKEO_mean_8_coef' ,'det_LT_TKEO_mean_9_coef' ,'det_LT_TKEO_mean_10_coef' ,'det_LT_TKEO_std_1_coef' ,'det_LT_TKEO_std_2_coef' ,'det_LT_TKEO_std_3_coef' ,'det_LT_TKEO_std_4_coef' ,'det_LT_TKEO_std_5_coef' ,'det_LT_TKEO_std_6_coef' ,'det_LT_TKEO_std_7_coef' ,'det_LT_TKEO_std_8_coef' ,'det_LT_TKEO_std_9_coef' ,'det_LT_TKEO_std_10_coef' ,'app_LT_entropy_shannon_1_coef' ,'app_LT_entropy_shannon_2_coef' ,'app_LT_entropy_shannon_3_coef' ,'app_LT_entropy_shannon_4_coef' ,'app_LT_entropy_shannon_5_coef' ,'app_LT_entropy_shannon_6_coef' ,'app_LT_entropy_shannon_7_coef' ,'app_LT_entropy_shannon_8_coef' ,'app_LT_entropy_shannon_9_coef' ,'app_LT_entropy_shannon_10_coef' ,'app_LT_entropy_log_1_coef' ,'app_LT_entropy_log_2_coef' ,'app_LT_entropy_log_3_coef' ,'app_LT_entropy_log_4_coef' ,'app_LT_entropy_log_5_coef' ,'app_LT_entropy_log_7_coef' ,'app_LT_entropy_log_8_coef' ,'app_LT_entropy_log_10_coef' ,'app_LT_TKEO_mean_1_coef' ,'app_LT_TKEO_mean_2_coef' ,'app_LT_TKEO_mean_3_coef' ,'app_LT_TKEO_mean_4_coef' ,'app_LT_TKEO_mean_5_coef' ,'app_LT_TKEO_mean_7_coef' ,'app_LT_TKEO_mean_8_coef' ,'app_LT_TKEO_mean_9_coef' ,'app_LT_TKEO_mean_10_coef' ,'app_LT_TKEO_std_1_coef' ,'app_LT_TKEO_std_2_coef' ,'app_LT_TKEO_std_3_coef' ,'app_LT_TKEO_std_4_coef' ,'app_LT_TKEO_std_6_coef' ,'app_LT_TKEO_std_7_coef' ,'app_LT_TKEO_std_10_coef' ,'tqwt_energy_dec_1' ,'tqwt_energy_dec_2' ,'tqwt_energy_dec_3' ,'tqwt_energy_dec_4' ,'tqwt_energy_dec_5' ,'tqwt_energy_dec_7' ,'tqwt_energy_dec_8' ,'tqwt_energy_dec_10' ,'tqwt_energy_dec_13' ,'tqwt_energy_dec_14' ,'tqwt_energy_dec_15' ,'tqwt_energy_dec_16' ,'tqwt_energy_dec_17' ,'tqwt_energy_dec_19' ,'tqwt_energy_dec_20' ,'tqwt_energy_dec_21' ,'tqwt_energy_dec_22' ,'tqwt_energy_dec_23' ,'tqwt_energy_dec_24' ,'tqwt_energy_dec_25' ,'tqwt_energy_dec_26' ,'tqwt_energy_dec_27' ,'tqwt_energy_dec_29' ,'tqwt_energy_dec_30' ,'tqwt_energy_dec_31' ,'tqwt_energy_dec_32' ,'tqwt_energy_dec_33' ,'tqwt_energy_dec_34' ,'tqwt_energy_dec_35' ,'tqwt_energy_dec_36' ,'tqwt_entropy_shannon_dec_1' ,'tqwt_entropy_shannon_dec_2' ,'tqwt_entropy_shannon_dec_3' ,'tqwt_entropy_shannon_dec_4' ,'tqwt_entropy_shannon_dec_5' ,'tqwt_entropy_shannon_dec_6' ,'tqwt_entropy_shannon_dec_8' ,'tqwt_entropy_shannon_dec_9' ,'tqwt_entropy_shannon_dec_10' ,'tqwt_entropy_shannon_dec_13' ,'tqwt_entropy_shannon_dec_14' ,'tqwt_entropy_shannon_dec_15' ,'tqwt_entropy_shannon_dec_16' ,'tqwt_entropy_shannon_dec_17' ,'tqwt_entropy_shannon_dec_18' ,'tqwt_entropy_shannon_dec_20' ,'tqwt_entropy_shannon_dec_21' ,'tqwt_entropy_shannon_dec_22' ,'tqwt_entropy_shannon_dec_23' ,'tqwt_entropy_shannon_dec_24' ,'tqwt_entropy_shannon_dec_25' ,'tqwt_entropy_shannon_dec_26' ,'tqwt_entropy_shannon_dec_27' ,'tqwt_entropy_shannon_dec_28' ,'tqwt_entropy_shannon_dec_29' ,'tqwt_entropy_shannon_dec_30' ,'tqwt_entropy_shannon_dec_31' ,'tqwt_entropy_shannon_dec_34' ,'tqwt_entropy_shannon_dec_35' ,'tqwt_entropy_log_dec_1' ,'tqwt_entropy_log_dec_2' ,'tqwt_entropy_log_dec_3' ,'tqwt_entropy_log_dec_4' ,'tqwt_entropy_log_dec_5' ,'tqwt_entropy_log_dec_6' ,'tqwt_entropy_log_dec_7' ,'tqwt_entropy_log_dec_8' ,'tqwt_entropy_log_dec_9' ,'tqwt_entropy_log_dec_10' ,'tqwt_entropy_log_dec_12' ,'tqwt_entropy_log_dec_14' ,'tqwt_entropy_log_dec_15' ,'tqwt_entropy_log_dec_16' ,'tqwt_entropy_log_dec_17' ,'tqwt_entropy_log_dec_18' ,'tqwt_entropy_log_dec_19' ,'tqwt_entropy_log_dec_20' ,'tqwt_entropy_log_dec_21' ,'tqwt_entropy_log_dec_22' ,'tqwt_entropy_log_dec_23' ,'tqwt_entropy_log_dec_24' ,'tqwt_entropy_log_dec_25' ,'tqwt_entropy_log_dec_26' ,'tqwt_entropy_log_dec_27' ,'tqwt_entropy_log_dec_29' ,'tqwt_entropy_log_dec_30' ,'tqwt_entropy_log_dec_31' ,'tqwt_entropy_log_dec_32' ,'tqwt_entropy_log_dec_34' ,'tqwt_entropy_log_dec_36' ,'tqwt_TKEO_mean_dec_1' ,'tqwt_TKEO_mean_dec_2' ,'tqwt_TKEO_mean_dec_3' ,'tqwt_TKEO_mean_dec_4' ,'tqwt_TKEO_mean_dec_5' ,'tqwt_TKEO_mean_dec_7' ,'tqwt_TKEO_mean_dec_8' ,'tqwt_TKEO_mean_dec_9' ,'tqwt_TKEO_mean_dec_10' ,'tqwt_TKEO_mean_dec_15' ,'tqwt_TKEO_mean_dec_16' ,'tqwt_TKEO_mean_dec_17' ,'tqwt_TKEO_mean_dec_18' ,'tqwt_TKEO_mean_dec_19' ,'tqwt_TKEO_mean_dec_20' ,'tqwt_TKEO_mean_dec_21' ,'tqwt_TKEO_mean_dec_22' ,'tqwt_TKEO_mean_dec_23' ,'tqwt_TKEO_mean_dec_24' ,'tqwt_TKEO_mean_dec_25' ,'tqwt_TKEO_mean_dec_26' ,'tqwt_TKEO_mean_dec_27' ,'tqwt_TKEO_mean_dec_28' ,'tqwt_TKEO_mean_dec_29' ,'tqwt_TKEO_mean_dec_30' ,'tqwt_TKEO_mean_dec_31' ,'tqwt_TKEO_mean_dec_32' ,'tqwt_TKEO_mean_dec_34' ,'tqwt_TKEO_mean_dec_35' ,'tqwt_TKEO_std_dec_1' ,'tqwt_TKEO_std_dec_2' ,'tqwt_TKEO_std_dec_3' ,'tqwt_TKEO_std_dec_4' ,'tqwt_TKEO_std_dec_5' ,'tqwt_TKEO_std_dec_7' ,'tqwt_TKEO_std_dec_8' ,'tqwt_TKEO_std_dec_9' ,'tqwt_TKEO_std_dec_10' ,'tqwt_TKEO_std_dec_12' ,'tqwt_TKEO_std_dec_13' ,'tqwt_TKEO_std_dec_14' ,'tqwt_TKEO_std_dec_15' ,'tqwt_TKEO_std_dec_16' ,'tqwt_TKEO_std_dec_17' ,'tqwt_TKEO_std_dec_18' ,'tqwt_TKEO_std_dec_19' ,'tqwt_TKEO_std_dec_20' ,'tqwt_TKEO_std_dec_21' ,'tqwt_TKEO_std_dec_22' ,'tqwt_TKEO_std_dec_23' ,'tqwt_TKEO_std_dec_24' ,'tqwt_TKEO_std_dec_25' ,'tqwt_TKEO_std_dec_26','tqwt_TKEO_std_dec_27' ,'tqwt_TKEO_std_dec_28' ,'tqwt_TKEO_std_dec_29' ,'tqwt_TKEO_std_dec_30' ,'tqwt_TKEO_std_dec_31' ,'tqwt_TKEO_std_dec_32' ,'tqwt_TKEO_std_dec_33' ,'tqwt_TKEO_std_dec_34' ,'tqwt_TKEO_std_dec_35' ,'tqwt_TKEO_std_dec_36' ,'tqwt_medianValue_dec_1' ,'tqwt_medianValue_dec_2' ,'tqwt_medianValue_dec_3' ,'tqwt_medianValue_dec_4' ,'tqwt_medianValue_dec_5' ,'tqwt_medianValue_dec_6' ,'tqwt_medianValue_dec_7' ,'tqwt_medianValue_dec_8' ,'tqwt_medianValue_dec_9' ,'tqwt_medianValue_dec_10' ,'tqwt_medianValue_dec_11' ,'tqwt_medianValue_dec_12' ,'tqwt_medianValue_dec_13' ,'tqwt_medianValue_dec_14' ,'tqwt_medianValue_dec_15' ,'tqwt_medianValue_dec_17' ,'tqwt_medianValue_dec_18' ,'tqwt_medianValue_dec_19' ,'tqwt_medianValue_dec_20' ,'tqwt_medianValue_dec_21' ,'tqwt_medianValue_dec_22' ,'tqwt_medianValue_dec_23' ,'tqwt_medianValue_dec_24' ,'tqwt_medianValue_dec_25' ,'tqwt_medianValue_dec_26' ,'tqwt_medianValue_dec_27' ,'tqwt_medianValue_dec_28' ,'tqwt_medianValue_dec_29' ,'tqwt_medianValue_dec_30' ,'tqwt_medianValue_dec_31' ,'tqwt_medianValue_dec_32' ,'tqwt_medianValue_dec_33' ,'tqwt_medianValue_dec_34' ,'tqwt_meanValue_dec_1' ,'tqwt_meanValue_dec_2' ,'tqwt_meanValue_dec_3' ,'tqwt_meanValue_dec_4' ,'tqwt_meanValue_dec_5' ,'tqwt_meanValue_dec_6' ,'tqwt_meanValue_dec_7' ,'tqwt_meanValue_dec_8' ,'tqwt_meanValue_dec_9' ,'tqwt_meanValue_dec_10' ,'tqwt_meanValue_dec_11' ,'tqwt_meanValue_dec_12' ,'tqwt_meanValue_dec_13' ,'tqwt_meanValue_dec_14' ,'tqwt_meanValue_dec_15' ,'tqwt_meanValue_dec_16' ,'tqwt_meanValue_dec_17' ,'tqwt_meanValue_dec_18' ,'tqwt_meanValue_dec_19' ,'tqwt_meanValue_dec_20' ,'tqwt_meanValue_dec_21' ,'tqwt_meanValue_dec_22' ,'tqwt_meanValue_dec_23' ,'tqwt_meanValue_dec_24' ,'tqwt_meanValue_dec_25' ,'tqwt_meanValue_dec_26' ,'tqwt_meanValue_dec_27' ,'tqwt_meanValue_dec_28' ,'tqwt_meanValue_dec_29' ,'tqwt_meanValue_dec_30' ,'tqwt_meanValue_dec_31' ,'tqwt_meanValue_dec_32' ,'tqwt_meanValue_dec_33' ,'tqwt_meanValue_dec_34' ,'tqwt_meanValue_dec_35' ,'tqwt_meanValue_dec_36' ,'tqwt_stdValue_dec_1' ,'tqwt_stdValue_dec_2' ,'tqwt_stdValue_dec_3' ,'tqwt_stdValue_dec_4' ,'tqwt_stdValue_dec_5' ,'tqwt_stdValue_dec_6' ,'tqwt_stdValue_dec_8' ,'tqwt_stdValue_dec_9' ,'tqwt_stdValue_dec_10' ,'tqwt_stdValue_dec_12' ,'tqwt_stdValue_dec_13' ,'tqwt_stdValue_dec_14' ,'tqwt_stdValue_dec_15' ,'tqwt_stdValue_dec_16' ,'tqwt_stdValue_dec_17' ,'tqwt_stdValue_dec_19' ,'tqwt_stdValue_dec_20' ,'tqwt_stdValue_dec_21' ,'tqwt_stdValue_dec_22' ,'tqwt_stdValue_dec_23' ,'tqwt_stdValue_dec_24' ,'tqwt_stdValue_dec_25' ,'tqwt_stdValue_dec_26' ,'tqwt_stdValue_dec_27' ,'tqwt_stdValue_dec_28' ,'tqwt_stdValue_dec_29' ,'tqwt_stdValue_dec_30' ,'tqwt_stdValue_dec_31' ,'tqwt_stdValue_dec_32' ,'tqwt_stdValue_dec_34' ,'tqwt_stdValue_dec_36' ,'tqwt_minValue_dec_1' ,'tqwt_minValue_dec_2' ,'tqwt_minValue_dec_3' ,'tqwt_minValue_dec_4' ,'tqwt_minValue_dec_5' ,'tqwt_minValue_dec_6' ,'tqwt_minValue_dec_7' ,'tqwt_minValue_dec_8' ,'tqwt_minValue_dec_9' ,'tqwt_minValue_dec_10' ,'tqwt_minValue_dec_12' ,'tqwt_minValue_dec_14' ,'tqwt_minValue_dec_15' ,'tqwt_minValue_dec_16' ,'tqwt_minValue_dec_17' ,'tqwt_minValue_dec_18' ,'tqwt_minValue_dec_19' ,'tqwt_minValue_dec_20' ,'tqwt_minValue_dec_21' ,'tqwt_minValue_dec_22']"
   ]
  },
  {
   "cell_type": "code",
   "execution_count": null,
   "id": "408dfe58",
   "metadata": {},
   "outputs": [],
   "source": [
    "preprocessed=df.drop(columns=important)"
   ]
  },
  {
   "cell_type": "code",
   "execution_count": null,
   "id": "df1701c1",
   "metadata": {},
   "outputs": [],
   "source": [
    "preprocessed"
   ]
  },
  {
   "cell_type": "code",
   "execution_count": null,
   "id": "72870db7",
   "metadata": {},
   "outputs": [],
   "source": [
    "X=preprocessed.drop(columns=['class'])\n",
    "y=preprocessed['class']\n",
    "X_train,X_test,y_train,y_test=train_test_split(X,y,test_size=0.2)"
   ]
  },
  {
   "cell_type": "code",
   "execution_count": null,
   "id": "f4e4c5ad",
   "metadata": {},
   "outputs": [],
   "source": [
    "X_test"
   ]
  },
  {
   "cell_type": "code",
   "execution_count": null,
   "id": "a14562cb",
   "metadata": {},
   "outputs": [],
   "source": [
    "rfr=RandomForestClassifier()\n",
    "rfr.fit(X_train,y_train)\n",
    "\n",
    "print(\"Accuracy: \",accuracy_score(y_test,rfr.predict(X_test)))\n",
    "print(\"F1 Score: \",f1_score(y_test,rfr.predict(X_test)))\n",
    "print(\"Precision: \",precision_score(y_test,rfr.predict(X_test)))\n",
    "print(\"Recall (Sensistivity): \",recall_score(y_test,rfr.predict(X_test)))\n",
    "\n",
    "\n",
    "cm=confusion_matrix(y_test,rfr.predict(X_test))\n",
    "\n",
    "tn=cm[0][0]\n",
    "fp=cm[0][1]\n",
    "fn=cm[1][0]\n",
    "tp=cm[1][1]\n",
    "\n",
    "print(\"Specificity: \",tn/(tn+fp))\n",
    "print(\"Sensitivity: \",tp/(tp+fn))\n",
    "disp=ConfusionMatrixDisplay(cm)\n",
    "disp.plot()\n",
    "plt.show()\n"
   ]
  },
  {
   "cell_type": "code",
   "execution_count": null,
   "id": "37d6bd65",
   "metadata": {},
   "outputs": [],
   "source": [
    "xgb=XGBClassifier()\n",
    "xgb.fit(X_train,y_train)\n",
    "print(\"Accuracy: \",accuracy_score(y_test,xgb.predict(X_test)))\n",
    "print(\"F1 Score: \",f1_score(y_test,xgb.predict(X_test)))\n",
    "print(\"Precision: \",precision_score(y_test,xgb.predict(X_test)))\n",
    "print(\"Recall (Sensitivity): \",recall_score(y_test,xgb.predict(X_test)))\n",
    "\n",
    "\n",
    "cm=confusion_matrix(y_test,xgb.predict(X_test))\n",
    "\n",
    "tn=cm[0][0]\n",
    "fp=cm[0][1]\n",
    "fn=cm[1][0]\n",
    "tp=cm[1][1]\n",
    "\n",
    "print(\"Specificity: \",tn/(tn+fp))\n",
    "disp=ConfusionMatrixDisplay(cm)\n",
    "disp.plot()\n",
    "plt.show()\n"
   ]
  },
  {
   "cell_type": "code",
   "execution_count": null,
   "id": "59d30893",
   "metadata": {},
   "outputs": [],
   "source": [
    "ebm=ExplainableBoostingClassifier()\n",
    "ebm.fit(X_train,y_train)\n",
    "\n",
    "print(\"Accuracy: \",accuracy_score(y_test,ebm.predict(X_test)))\n",
    "print(\"F1 Score: \",f1_score(y_test,ebm.predict(X_test)))\n",
    "print(\"Precision: \",precision_score(y_test,ebm.predict(X_test)))\n",
    "print(\"Recall (Sensitivity): \",recall_score(y_test,ebm.predict(X_test)))\n",
    "\n",
    "\n",
    "cm=confusion_matrix(y_test,ebm.predict(X_test))\n",
    "\n",
    "tn=cm[0][0]\n",
    "fp=cm[0][1]\n",
    "fn=cm[1][0]\n",
    "tp=cm[1][1]\n",
    "\n",
    "print(\"Specificity: \",tn/(tn+fp))\n",
    "disp=ConfusionMatrixDisplay(cm)\n",
    "disp.plot()\n",
    "plt.show()\n"
   ]
  },
  {
   "cell_type": "code",
   "execution_count": null,
   "id": "dbbb2bf5",
   "metadata": {
    "scrolled": true
   },
   "outputs": [],
   "source": [
    "show(ebm.explain_global())"
   ]
  },
  {
   "cell_type": "code",
   "execution_count": null,
   "id": "593a08cd",
   "metadata": {},
   "outputs": [],
   "source": [
    "preprocessed"
   ]
  },
  {
   "cell_type": "code",
   "execution_count": null,
   "id": "b292c92e",
   "metadata": {},
   "outputs": [],
   "source": [
    "df"
   ]
  },
  {
   "cell_type": "markdown",
   "id": "fb6b05fa",
   "metadata": {},
   "source": [
    "## RFR:\n",
    "\n",
    "**Before preprocessing:** <br> \n",
    "\n",
    "Accuracy:  0.868421052631579 <br>\n",
    "F1 Score:  0.9159663865546219 <br>\n",
    "Precision:  0.8790322580645161 <br>\n",
    "Recall (Sensitivity):  0.956140350877193 <br>\n",
    "Specificity:  0.6052631578947368 <br>\n",
    "\n",
    "**After Preprocessing:**<br>\n",
    "\n",
    "Accuracy:  0.9144736842105263 <br>\n",
    "F1 Score:  0.9473684210526315 <br>\n",
    "Precision:  0.936 <br>\n",
    "Recall (Sensistivity):  0.9590163934426229 <br>\n",
    "Specificity:  0.7333333333333333 <br>\n",
    "Sensitivity:  0.9590163934426229 <br>\n",
    "\n",
    "\n",
    "## XGB:\n",
    "\n",
    "**Before preprocessing:** <br>\n",
    "\n",
    "Accuracy:  0.8618421052631579 <br>\n",
    "F1 Score:  0.9106382978723405 <br>\n",
    "Precision:  0.8842975206611571 <br>\n",
    "Recall (Sensitivity):  0.9385964912280702 <br>\n",
    "Specificity:  0.631578947368421 <br>\n",
    "\n",
    "\n",
    "**After Preprocessing:** <br>\n",
    "Accuracy:  0.9013157894736842 <br>\n",
    "F1 Score:  0.9397590361445783 <br>\n",
    "Precision:  0.9212598425196851 <br>\n",
    "Recall (Sensitivity):  0.9590163934426229 <br>\n",
    "Specificity:  0.6666666666666666 <br>\n",
    "\n",
    "\n",
    "## EBM: <br>\n",
    "\n",
    "**Before preprocessing:** <br>\n",
    "\n",
    "Accuracy:  0.881578947368421 <br>\n",
    "F1 Score:  0.9256198347107438 <br>\n",
    "Precision:  0.875 <br>\n",
    "Recall (Sensitivity):  0.9824561403508771 <br>\n",
    "Specificity:  0.5789473684210527 <br>\n",
    "\n",
    "**After preprocessing:**<br>\n",
    "\n",
    "Accuracy:  0.9078947368421053 <br>\n",
    "F1 Score:  0.9426229508196722 <br>\n",
    "Precision:  0.9426229508196722 <br>\n",
    "Recall (Sensitivity):  0.9426229508196722 <br>\n",
    "Specificity:  0.7666666666666667 <br>\n"
   ]
  },
  {
   "cell_type": "code",
   "execution_count": null,
   "id": "69a18593",
   "metadata": {},
   "outputs": [],
   "source": [
    "from statistics import mean, stdev\n",
    "from sklearn.model_selection import StratifiedKFold\n",
    "import warnings"
   ]
  },
  {
   "cell_type": "code",
   "execution_count": null,
   "id": "e01ebfe4",
   "metadata": {},
   "outputs": [],
   "source": [
    "warnings.filterwarnings('ignore')\n",
    "skf = StratifiedKFold(n_splits=10, shuffle=True, random_state=1)\n",
    "accuracy = []\n",
    "precision = []\n",
    "recall = []\n",
    "f1 = []\n",
    "specificity = []\n",
    "\n",
    "for i,(train_index, test_index) in enumerate(skf.split(X, y)):\n",
    "    x_train_fold, x_test_fold = X.iloc[list(train_index)], X.iloc[list(test_index)]\n",
    "    y_train_fold, y_test_fold = y[list(train_index)], y[list(test_index)]\n",
    "    xgb.fit(x_train_fold, y_train_fold)\n",
    "    accuracy.append(accuracy_score(y_test_fold,xgb.predict(x_test_fold)))\n",
    "    f1.append(f1_score(y_test_fold,xgb.predict(x_test_fold)))\n",
    "    precision.append(precision_score(y_test_fold,xgb.predict(x_test_fold)))\n",
    "    cm=confusion_matrix(y_test_fold,xgb.predict(x_test_fold))\n",
    "    specificity.append(cm[0][0]/(cm[0][0]+cm[0][1]))\n",
    "    recall.append(recall_score(y_test_fold,xgb.predict(x_test_fold)))\n",
    "\n",
    "\n",
    "print(\"Accuracy: \",mean(accuracy))\n",
    "print(\"F1 Score: \",mean(f1))\n",
    "print(\"Precision: \",mean(precision))\n",
    "print(\"Recall (Sensitivity): \",mean(recall))\n",
    "print(\"Specificity: \",mean(specificity))"
   ]
  },
  {
   "cell_type": "code",
   "execution_count": null,
   "id": "c1aa8c35",
   "metadata": {},
   "outputs": [],
   "source": [
    "warnings.filterwarnings('ignore')\n",
    "skf = StratifiedKFold(n_splits=10, shuffle=True, random_state=1)\n",
    "accuracy = []\n",
    "precision = []\n",
    "recall = []\n",
    "f1 = []\n",
    "specificity = []\n",
    "\n",
    "for i,(train_index, test_index) in enumerate(skf.split(X, y)):\n",
    "    x_train_fold, x_test_fold = X.iloc[list(train_index)], X.iloc[list(test_index)]\n",
    "    y_train_fold, y_test_fold = y[list(train_index)], y[list(test_index)]\n",
    "    rfr.fit(x_train_fold, y_train_fold)\n",
    "    accuracy.append(accuracy_score(y_test_fold,rfr.predict(x_test_fold)))\n",
    "    f1.append(f1_score(y_test_fold,rfr.predict(x_test_fold)))\n",
    "    precision.append(precision_score(y_test_fold,rfr.predict(x_test_fold)))\n",
    "    cm=confusion_matrix(y_test_fold,rfr.predict(x_test_fold))\n",
    "    specificity.append(cm[0][0]/(cm[0][0]+cm[0][1]))\n",
    "    recall.append(recall_score(y_test_fold,rfr.predict(x_test_fold)))\n",
    "\n",
    "\n",
    "print(\"Accuracy: \",mean(accuracy))\n",
    "print(\"F1 Score: \",mean(f1))\n",
    "print(\"Precision: \",mean(precision))\n",
    "print(\"Recall (Sensitivity): \",mean(recall))\n",
    "print(\"Specificity: \",mean(specificity))"
   ]
  },
  {
   "cell_type": "code",
   "execution_count": null,
   "id": "9a7dfb5c",
   "metadata": {},
   "outputs": [],
   "source": [
    "warnings.filterwarnings('ignore')\n",
    "skf = StratifiedKFold(n_splits=10, shuffle=True, random_state=1)\n",
    "accuracy = []\n",
    "precision = []\n",
    "recall = []\n",
    "f1 = []\n",
    "specificity = []\n",
    "\n",
    "for i,(train_index, test_index) in enumerate(skf.split(X, y)):\n",
    "    x_train_fold, x_test_fold = X.iloc[list(train_index)], X.iloc[list(test_index)]\n",
    "    y_train_fold, y_test_fold = y[list(train_index)], y[list(test_index)]\n",
    "    ebm.fit(x_train_fold, y_train_fold)\n",
    "    accuracy.append(accuracy_score(y_test_fold,ebm.predict(x_test_fold)))\n",
    "    f1.append(f1_score(y_test_fold,ebm.predict(x_test_fold)))\n",
    "    precision.append(precision_score(y_test_fold,ebm.predict(x_test_fold)))\n",
    "    cm=confusion_matrix(y_test_fold,ebm.predict(x_test_fold))\n",
    "    specificity.append(cm[0][0]/(cm[0][0]+cm[0][1]))\n",
    "    recall.append(recall_score(y_test_fold,ebm.predict(x_test_fold)))\n",
    "\n",
    "\n",
    "print(\"Accuracy: \",mean(accuracy))\n",
    "print(\"F1 Score: \",mean(f1))\n",
    "print(\"Precision: \",mean(precision))\n",
    "print(\"Recall (Sensitivity): \",mean(recall))\n",
    "print(\"Specificity: \",mean(specificity))"
   ]
  },
  {
   "cell_type": "code",
   "execution_count": null,
   "id": "99c35d80",
   "metadata": {},
   "outputs": [],
   "source": []
  },
  {
   "cell_type": "code",
   "execution_count": null,
   "id": "9d57e833",
   "metadata": {},
   "outputs": [],
   "source": [
    "def func(x):\n",
    "    x1, x2 = x\n",
    "    return 1 / x1 ** 2 + x1 ** 2 + 1 / x2 ** 2 + x2 ** 2\n",
    "\n",
    "\n",
    "from sko.AFSA import AFSA\n",
    "\n",
    "afsa = AFSA(func, n_dim=2, size_pop=50, max_iter=300,\n",
    "            max_try_num=100, step=0.5, visual=0.3,\n",
    "            q=0.98, delta=0.5)\n",
    "best_x, best_y = afsa.run()\n",
    "print(best_x, best_y)"
   ]
  },
  {
   "cell_type": "code",
   "execution_count": null,
   "id": "c25416dc",
   "metadata": {},
   "outputs": [],
   "source": [
    "!pip install scikit-opt"
   ]
  },
  {
   "cell_type": "code",
   "execution_count": null,
   "id": "51002466",
   "metadata": {},
   "outputs": [],
   "source": [
    "def objective_function(X,y):\n",
    "    skf = StratifiedKFold(n_splits=10, shuffle=True, random_state=1)\n",
    "    recall = []\n",
    "    for i,(train_index, test_index) in enumerate(skf.split(X, y)):\n",
    "        x_train_fold, x_test_fold = X.iloc[list(train_index)], X.iloc[list(test_index)]\n",
    "        y_train_fold, y_test_fold = y[list(train_index)], y[list(test_index)]\n",
    "        xgb.fit(x_train_fold, y_train_fold)\n",
    "        recall.append(recall_score(y_test_fold,xgb.predict(x_test_fold)))\n",
    "    return 1-mean(recall)"
   ]
  },
  {
   "cell_type": "code",
   "execution_count": null,
   "id": "40608d74",
   "metadata": {},
   "outputs": [],
   "source": [
    "abc_obj = abc(sphere) #Load data\n",
    "abc_obj.fit(objective_function,(X,y)) #Execute the algorithm\n",
    "\n",
    "#If you want to get the obtained solution after execute the fit() method:\n",
    "solution = abc_obj.get_solution()\n"
   ]
  },
  {
   "cell_type": "code",
   "execution_count": null,
   "id": "7c302fc8",
   "metadata": {},
   "outputs": [],
   "source": []
  }
 ],
 "metadata": {
  "kernelspec": {
   "display_name": "Python 3 (ipykernel)",
   "language": "python",
   "name": "python3"
  },
  "language_info": {
   "codemirror_mode": {
    "name": "ipython",
    "version": 3
   },
   "file_extension": ".py",
   "mimetype": "text/x-python",
   "name": "python",
   "nbconvert_exporter": "python",
   "pygments_lexer": "ipython3",
   "version": "3.9.7"
  }
 },
 "nbformat": 4,
 "nbformat_minor": 5
}
